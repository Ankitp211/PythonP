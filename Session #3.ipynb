{
 "cells": [
  {
   "cell_type": "markdown",
   "metadata": {},
   "source": [
    "\n",
    "# <font color=\"blue\">Python Basics - Master Class</font>\n",
    "\n",
    "\n",
    "\n",
    "## <font color=\"blue\"><font size=\"3\"><b>Session #3</b></font></font>\n",
    "## <font color=\"blue\"><font size=\"3\"><b>Date: 04/10/2019</b></font></font>\n",
    "\n",
    "<font color=\"blue\"><b>Topics:</b></font>\n",
    "\n",
    "<font color=\"blue\">Lists,Tuple,Dictionary</font>\n",
    "\n",
    "\n",
    "\n"
   ]
  },
  {
   "cell_type": "markdown",
   "metadata": {},
   "source": [
    "**Lists**\n",
    "\n",
    "+ Lists, along with dictionary, are perhaps most important data types.\n",
    "+ A list contains items separated by commas and enclosed within square brackets ([]).\n",
    "+ All the items belonging to a list can be of <b>different data type</b>.\n",
    "+ Lists are similar to arrays in C language.\n",
    "+ The <b>plus ( + )</b> sign is the list concatenation operator, and the <b>asterisk ( * )</b> is the repetition operator.\n",
    "array in python ->Store fix data type"
   ]
  },
  {
   "cell_type": "code",
   "execution_count": null,
   "metadata": {},
   "outputs": [],
   "source": [
    "list1 = [ 'abcd', 786 , 2.23, 'ISB', 70.2 ]\n",
    "list2 = [123, 'ISB']\n",
    "\n",
    "print (list1)            # Prints complete list\n",
    "#print (list1[0])         # Prints first element of the list\n",
    "#print (list1[1:3])       # Prints elements starting from 2nd till 3rd \n",
    "#print (list1[2:])        # Prints elements starting from 3rd element\n",
    "#print (list2 * 2)     # Prints list two times\n",
    "#print (list1 + list2) # Prints concatenated lists\n",
    "#print (len(list1))"
   ]
  },
  {
   "cell_type": "markdown",
   "metadata": {},
   "source": [
    "'''List operation\n",
    "append, index etc'''"
   ]
  },
  {
   "cell_type": "code",
   "execution_count": null,
   "metadata": {},
   "outputs": [],
   "source": [
    "alist = [ 'abcd', 786 , 2.23, 'ISB', 70.2 ]\n",
    "blist = alist\n",
    "alist = alist*2\n",
    "print (alist)\n",
    "print(blist)\n"
   ]
  },
  {
   "cell_type": "code",
   "execution_count": null,
   "metadata": {},
   "outputs": [],
   "source": [
    "list_ = ['Ajay', 'Vijay', 'Ramesh']\n",
    "list_.append('Sujay')         \n",
    "list_.insert(0, 'NewGuy')       \n",
    "list_.extend(['Guy1', 'Guy2']) \n",
    "print (list_)  \n",
    "#print (list_.index('Guy1')) \n",
    "#list_.remove('Guy1')  # Remove by Name\n",
    "#print(list_)\n",
    "#list_.pop(1)                         # Remove by location - Ajay is gone\n",
    "#print (list_)"
   ]
  },
  {
   "cell_type": "code",
   "execution_count": null,
   "metadata": {},
   "outputs": [],
   "source": [
    "list_ = ['Ajay', 'Vijay', 'Ramesh']\n",
    "a=[1,2,3,'aa']\n",
    "\n",
    "list_.append(a) \n",
    "print(list_)\n",
    "#list_.insert(3, 'NewGuy1') \n",
    "#print(list_)\n",
    "#list_.extend(['Guy1', 'Guy2']) \n",
    "#print(list_)"
   ]
  },
  {
   "cell_type": "code",
   "execution_count": null,
   "metadata": {},
   "outputs": [],
   "source": [
    "#Sorting\n",
    "numberlist = [1, 5, 23, 1 ,54,2, 54,23, 54,76, 76,34,87]\n",
    "numberlist.sort()\n",
    "print(numberlist)\n",
    "#print (len(numberlist))\n",
    "#print (max(numberlist))\n",
    "#print (min(numberlist))\n",
    "#type(eval('numberlist'))\n",
    "\n"
   ]
  },
  {
   "cell_type": "code",
   "execution_count": null,
   "metadata": {},
   "outputs": [],
   "source": [
    "#membership in lists\n",
    "x=[10,20,30,40]\n",
    "a=20\n",
    "print(a in x) \n",
    "\n",
    "#print(a not in x)\n"
   ]
  },
  {
   "cell_type": "code",
   "execution_count": null,
   "metadata": {},
   "outputs": [],
   "source": [
    "#Cloning\n",
    "\n",
    "x=[10,20,30,40,50]\n",
    "y=x\n",
    "print(x)\n",
    "print(y)\n",
    "x[1]=99 #modify the 1st element in X\n",
    "#print(x)\n",
    "#print(y)\n",
    "\n"
   ]
  },
  {
   "cell_type": "code",
   "execution_count": null,
   "metadata": {},
   "outputs": [],
   "source": [
    "x=[10,20,30,40,50]\n",
    "y=x[:] #x is cloned as y  , y=x.copy()\n",
    "print(x)\n",
    "print(y)\n",
    "\n",
    "x[1]=99\n",
    "#print(x)\n",
    "#print(y)\n"
   ]
  },
  {
   "cell_type": "code",
   "execution_count": null,
   "metadata": {},
   "outputs": [],
   "source": [
    "#number of occurance of an element in the list\n",
    "x=[10,20,30,40,50,10,20,40,10]\n",
    "n=x.count(10)\n",
    "print(n)\n"
   ]
  },
  {
   "cell_type": "code",
   "execution_count": null,
   "metadata": {},
   "outputs": [],
   "source": [
    "#Concatenation of two lists\n",
    "\n",
    "x=[10,20,40,50]\n",
    "y=[100,110,120]\n",
    "print(x+y)"
   ]
  },
  {
   "cell_type": "code",
   "execution_count": null,
   "metadata": {},
   "outputs": [],
   "source": [
    "# Split ()\n",
    "a=\"Python master classes\"\n",
    "b=a.split()\n",
    "print(b)\n",
    "type(b)\n",
    "\n"
   ]
  },
  {
   "cell_type": "code",
   "execution_count": null,
   "metadata": {},
   "outputs": [],
   "source": [
    " #Nested List\n",
    "x=[10,20,[70,80,90]]\n",
    "print(x)\n",
    "print(x[0])\n",
    "print(x[1])\n",
    "print(x[2])"
   ]
  },
  {
   "cell_type": "code",
   "execution_count": null,
   "metadata": {},
   "outputs": [],
   "source": [
    "print(x[2][0])"
   ]
  },
  {
   "cell_type": "code",
   "execution_count": null,
   "metadata": {},
   "outputs": [],
   "source": [
    " #Nested List\n",
    "my_list = ['p','r','o','b','e']\n",
    "\n",
    "n_list = [1,\"Happy\",\"Ankit\", [[2,0,1],[5,6,2]]]\n",
    "print(len(n_list))\n",
    "\n",
    "print(n_list[0])   \n",
    "#print(n_list[0:3])\n",
    "#print(n_list[3][0][2])\n",
    "#print(n_list[3][1][1])\n",
    "#type(a)\n",
    "\n",
    "#print(n_list[1])\n"
   ]
  },
  {
   "cell_type": "code",
   "execution_count": null,
   "metadata": {},
   "outputs": [],
   "source": [
    "a=\"Python master classes\"\n",
    "\n",
    "b=list(a)\n",
    "print(b)\n",
    "#type(b)\n"
   ]
  },
  {
   "cell_type": "markdown",
   "metadata": {},
   "source": [
    "**Dictionary**\n",
    "\n",
    "+ Dictionary represents a group of elements arranged in the form of key-value pair.\n",
    "+ Python's dictionaries are kind of <b>hash tables</b>.\n",
    "+ They work like associative arrays and consist of <font color='red'><b>key-value pairs</b></font>. \n",
    "+ A dictionary key can be almost any Python type, but are usually numbers or strings. \n",
    "+ Values, on the other hand, can be any arbitrary Python object.\n",
    "+ Dictionaries are enclosed by <b>curly braces ( { } )</b> and values can be assigned and accessed using <b>square braces ( [] )</b>."
   ]
  },
  {
   "cell_type": "code",
   "execution_count": null,
   "metadata": {},
   "outputs": [],
   "source": [
    "#number of key value pair\n",
    "\n",
    "\n",
    "a={'name' :'DataMigration','code':39390,'Class':'Python'}\n",
    "print(a['name'])\n",
    "print(a['code'])\n",
    "print(a['Class'])\n",
    "#len(a)\n",
    "\n",
    "\n",
    "\n"
   ]
  },
  {
   "cell_type": "code",
   "execution_count": null,
   "metadata": {},
   "outputs": [],
   "source": [
    "#modification\n",
    "\n",
    "a['Class']='Python MasterClass'\n",
    "print(a)"
   ]
  },
  {
   "cell_type": "code",
   "execution_count": null,
   "metadata": {},
   "outputs": [],
   "source": [
    "#insert a new key-value pair\n",
    "a['Topic']='Dictonary'\n",
    "print(a)"
   ]
  },
  {
   "cell_type": "code",
   "execution_count": null,
   "metadata": {},
   "outputs": [],
   "source": [
    "#Delete a key-value pair\n",
    "del a['Topic']\n",
    "print(a)\n"
   ]
  },
  {
   "cell_type": "code",
   "execution_count": null,
   "metadata": {},
   "outputs": [],
   "source": [
    "#Membership\n",
    "\n",
    "'Topic' in a"
   ]
  },
  {
   "cell_type": "code",
   "execution_count": null,
   "metadata": {},
   "outputs": [],
   "source": [
    "b={'a':10, 'b':20,'c':30,'a':40}\n",
    "print(b)"
   ]
  },
  {
   "cell_type": "code",
   "execution_count": null,
   "metadata": {},
   "outputs": [],
   "source": [
    "\n",
    "a={'name' :'sasa','code':39390}\n",
    "print(a)\n",
    "print(a.keys())\n",
    "print(a.values())\n",
    "#a['Class']='PythonMasterclass'\n",
    "#print(a)\n",
    "#print(a.keys())\n",
    "\n",
    "#print(a.values())\n",
    "#print(a['Class'])\n",
    "\n",
    "\n",
    "\n"
   ]
  },
  {
   "cell_type": "code",
   "execution_count": null,
   "metadata": {},
   "outputs": [],
   "source": [
    "dict = {}\n",
    "dict['one'] = \"This is one\"\n",
    "dict[2]     = \"This is two\"\n",
    "tinydict = {'name': 'isb','code':6734, 'dept': 'sales'}\n",
    "\n",
    "print (dict['one'])       # Prints value for 'one' key\n",
    "print (dict[2])           # Prints value for 2 key\n",
    "#print (tinydict)          # Prints complete dictionary\n",
    "#print (tinydict.keys())   # Prints all the keys\n",
    "#print (tinydict.values()) # Prints all the values\n"
   ]
  },
  {
   "cell_type": "code",
   "execution_count": null,
   "metadata": {},
   "outputs": [],
   "source": [
    "list_ = ['Ajay', 'Vijay', 'Ramesh']\n",
    "a=[1,2,3,'aa']\n",
    "b={'Key1':'name1','key2':'name2'}\n",
    "print(b)\n",
    "list_.append(b) \n",
    "print(list_)"
   ]
  },
  {
   "cell_type": "markdown",
   "metadata": {},
   "source": [
    "<b>Tuples</b>\n",
    "Tuples are sequences, just like lists. The differences between tuples and lists are, the tuples cannot be changed unlike lists and tuples use parentheses, whereas lists use square brackets."
   ]
  },
  {
   "cell_type": "markdown",
   "metadata": {},
   "source": [
    "** Lets see what is a Tuple? **<br/>\n",
    "A tuple is a sequence of immutable Python objects\n",
    "Tuples can not be changed unlike lists and tuple use parentheses"
   ]
  },
  {
   "cell_type": "code",
   "execution_count": null,
   "metadata": {},
   "outputs": [],
   "source": [
    "tup1 = ('physics', 'chemistry', 1997, 2000)\n",
    "tup2 = (1, 2, 3, 4, 5 )\n",
    "tup3 = \"a\", \"b\", \"c\", \"d\"\n",
    "\n",
    "print(tup1,tup2,tup3)\n",
    "\n"
   ]
  },
  {
   "cell_type": "code",
   "execution_count": null,
   "metadata": {},
   "outputs": [],
   "source": [
    "#Tuple key\n",
    "emp1={('a','b'):(1,2)}\n",
    "d1 = {5:\"number\",\"to\":\"string\"}\n",
    "d1[(1,\"a\")] = \"tuple\"\n",
    "print(d1)\n",
    "\n",
    "\n",
    "     \n"
   ]
  },
  {
   "cell_type": "markdown",
   "metadata": {},
   "source": [
    "<b><br>Immutable objects are those whose value cannot be changed in place after assignment or initialization</br>\n",
    "<br>mutable it means that we can change their content without changing their identity.</b></br>"
   ]
  },
  {
   "cell_type": "code",
   "execution_count": null,
   "metadata": {},
   "outputs": [],
   "source": [
    "#Mutable VS Immutable\n",
    "# Create a list variable\n",
    "list_Num = [5, 7, 9, 11]\n",
    " \n",
    "# Create a tuple variable (initialize with the same values)\n",
    "tup_Num = (5, 7, 9, 11)\n",
    " \n",
    "# print the list\n",
    "print(list_Num)\n",
    "\n",
    " \n",
    "# print the tuple\n",
    "\n",
    "print(tup_Num)\n",
    " \n",
    "# alter the list (change any value in the list)\n",
    "list_Num [1] = 6 # success\n",
    "print(list_Num)\n",
    "# alter the tuple (change any value in the tuple)\n",
    "#tup_Num [1] = 4 \n",
    " \n",
    "# print the list again\n",
    "#list_Num\n",
    "#[5, 6, 9, 11] # There is a change in value; so called mutable.\n",
    " \n",
    "# print the tuple\n",
    "#tup_Num\n",
    "#(5, 7, 9, 11) # None of the values are changed; so it is immutable."
   ]
  },
  {
   "cell_type": "code",
   "execution_count": null,
   "metadata": {},
   "outputs": [],
   "source": [
    "#Practise Exercise "
   ]
  }
 ],
 "metadata": {
  "kernelspec": {
   "display_name": "Python 3",
   "language": "python",
   "name": "python3"
  },
  "language_info": {
   "codemirror_mode": {
    "name": "ipython",
    "version": 3
   },
   "file_extension": ".py",
   "mimetype": "text/x-python",
   "name": "python",
   "nbconvert_exporter": "python",
   "pygments_lexer": "ipython3",
   "version": "3.6.5"
  }
 },
 "nbformat": 4,
 "nbformat_minor": 2
}
