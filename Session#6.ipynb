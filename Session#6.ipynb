{
 "cells": [
  {
   "cell_type": "markdown",
   "metadata": {},
   "source": [
    "# XlsxWriter\n",
    "+ XlsxWriter is a Python module that can be used to write text, numbers, formulas and hyperlinks to multiple worksheets + in an Excel 2007+ XLSX file. It supports features such as formatting and many more, including:\n",
    "\n",
    "+ 100% compatible Excel XLSX files.\n",
    "+ Full formatting.\n",
    "+ Merged cells.\n",
    "+ Defined names.\n",
    "+ Charts.\n",
    "+ Autofilters.\n",
    "+ Data validation and drop down lists.\n",
    "+ Conditional formatting.\n",
    "+ worksheet PNG/JPEG/BMP/WMF/EMF images.\n",
    "+ Rich multi-format strings.\n",
    "+ Cell comments.\n",
    "+ Textboxes.\n",
    "+ Integration with Pandas.\n",
    "+ Memory optimization mode for writing large files.\n",
    "\n",
    "# Tutorial:\n",
    "+ https://www.geeksforgeeks.org/python-create-and-write-on-excel-file-using-xlsxwriter-module/\n",
    "+ https://readthedocs.org/projects/xlsxwriter/\n",
    "+ https://kite.com/python/docs/xlsxwriter.format.Format"
   ]
  },
  {
   "cell_type": "markdown",
   "metadata": {},
   "source": [
    "# Workbook(filename)\n",
    "+ Create a new XlsxWriter Workbook object.\n",
    "+ Parameters\n",
    "+ • filename (string) – The name of the new Excel file to create.\n",
    "+ Return type A Workbook object.\n",
    "+ The Workbook() constructor is used to create a new Excel workbook with a given filename:\n",
    "\n",
    "\n",
    "# add_worksheet()\n",
    "By default worksheet names in the spreadsheet will be Sheet1, Sheet2 etc., but we can also\n",
    "specify a name:\n",
    "\n",
    "# worksheet.write(row, col, some_data)\n",
    "\n",
    "# workbook.close()\n",
    "\n",
    "\n",
    "\n",
    "\n"
   ]
  },
  {
   "cell_type": "code",
   "execution_count": 1,
   "metadata": {},
   "outputs": [
    {
     "name": "stdout",
     "output_type": "stream",
     "text": [
      "C:\\Users\\ankitp\\Documents\\PythonSessions\\XL\n"
     ]
    }
   ],
   "source": [
    "#Note: XlsxWriter can only create new files. It cannot read or modify existing files.\n",
    "%cd C:\\Users\\ankitp\\Documents\\PythonSessions\\XL\n",
    "import xlsxwriter\n",
    "workbook = xlsxwriter.Workbook('filename.xlsx')\n",
    "worksheet = workbook.add_worksheet()\n",
    "worksheet.write(0, 0, 'Data Migration')\n",
    "workbook.close()"
   ]
  },
  {
   "cell_type": "code",
   "execution_count": 15,
   "metadata": {},
   "outputs": [],
   "source": [
    "#Example to write monthly expenses into XL , find total monthly expense using formula.\n",
    "\n",
    "#Rent  1000\n",
    "#Gas   100\n",
    "#Food  300\n",
    "#Gym   50\n",
    "#Total 1450\n",
    "\n",
    "import xlsxwriter\n",
    "# Create a workbook and add a worksheet.\n",
    "workbook = xlsxwriter.Workbook('Expenses01.xlsx')\n",
    "worksheet = workbook.add_worksheet()\n",
    "# Some data we want to write to the worksheet.\n",
    "expenses = (\n",
    "['Rent', 1000],\n",
    "['Gas', 100],\n",
    "['Food', 300],\n",
    "['Gym', 50],\n",
    ")\n",
    "\n",
    "\n",
    "# Start from the first cell. Rows and columns are zero indexed.\n",
    "row = 0\n",
    "col = 0\n",
    "# Iterate over the data and write it out row by row.\n",
    "for item, cost in (expenses):\n",
    "        worksheet.write(row, col, item)\n",
    "     \n",
    "        worksheet.write(row, col + 1, cost)\n",
    "        row += 1\n",
    "# Write a total using a formula.\n",
    "\n",
    "worksheet.write(row, 0, 'Total')\n",
    "worksheet.write(row, 1, '=SUM(B1:B4)')\n",
    "workbook.close()\n"
   ]
  },
  {
   "cell_type": "code",
   "execution_count": 2,
   "metadata": {},
   "outputs": [],
   "source": [
    "#Format objects represent all of the formatting properties that can be applied to a cell in Excel such\n",
    "#as fonts, number formatting, colors and borders.\n",
    "\n",
    "#We can then pass these formats as an optional third parameter to the worksheet.write() method\n",
    "#to format the data in the cell:\n",
    "#write(row, column, token, [format])\n",
    "\n",
    "import xlsxwriter\n",
    "# Create a workbook and add a worksheet.\n",
    "workbook = xlsxwriter.Workbook('Expenses02.xlsx')\n",
    "worksheet = workbook.add_worksheet()\n",
    "\n",
    "# Add a bold format to use to highlight cells.\n",
    "bold = workbook.add_format({'bold': True})\n",
    "# Add a number format for cells with money.\n",
    "money = workbook.add_format({'num_format': '$#'})\n",
    "\n",
    "# Write some data headers.\n",
    "worksheet.write('A1', 'Item', bold)\n",
    "worksheet.write('B1', 'Cost', bold)\n",
    "# Some data we want to write to the worksheet.\n",
    "expenses = (\n",
    "['Rent', 1000],\n",
    "['Gas', 100],\n",
    "['Food', 300],\n",
    "['Gym', 50],\n",
    ")\n",
    "# Start from the first cell below the headers.\n",
    "row = 1\n",
    "col = 0\n",
    "# Iterate over the data and write it out row by row.\n",
    "for item, cost in (expenses):\n",
    "    worksheet.write(row, col, item)\n",
    "    worksheet.write(row, col + 1, cost, money)\n",
    "    row += 1\n",
    "# Write a total using a formula.\n",
    "worksheet.write(row, 0, 'Total', bold)\n",
    "worksheet.write(row, 1, '=SUM(B2:B5)', money)\n",
    "workbook.close()"
   ]
  },
  {
   "cell_type": "markdown",
   "metadata": {},
   "source": [
    "write(row, col, *args)\n",
    "Write generic data to a worksheet cell.\n",
    "\n",
    "Parameters:\t\n",
    "row – The cell row (zero indexed).\n",
    "col – The cell column (zero indexed).\n",
    "*args – The additional args that are passed to the sub methods such as number, string and cell_format.\n",
    "Returns:\t\n",
    "0: Success.\n",
    "\n",
    "Returns:\t\n",
    "-1: Row or column is out of worksheet bounds.\n",
    "\n",
    "Returns:\t\n",
    "Other values from the called write methods.\n",
    "\n",
    "Excel makes a distinction between data types such as strings, numbers, blanks, formulas and hyperlinks. To simplify the process of writing data to an XlsxWriter file the write() method acts as a general alias for several more specific methods:"
   ]
  },
  {
   "cell_type": "markdown",
   "metadata": {},
   "source": [
    "The Chart module is a base class for modules that implement charts in XlsxWriter. The information in this section is applicable to all of the available chart subclasses, such as Area, Bar, Column, Doughnut, Line, Pie, Scatter, Stock and Radar.\n",
    "\n",
    "+ The supported chart types are:\n",
    "\n",
    "+ area: Creates an Area (filled line) style chart.\n",
    "+ bar: Creates a Bar style (transposed histogram) chart.\n",
    "+ column: Creates a column style (histogram) chart.\n",
    "+ line: Creates a Line style chart.\n",
    "+ pie: Creates a Pie style chart.\n",
    "+ doughnut: Creates a Doughnut style chart.\n",
    "+ scatter: Creates a Scatter style chart.\n",
    "+ stock: Creates a Stock style chart.\n",
    "+ radar: Creates a Radar style cha\n",
    "\n",
    "A chart object is created via the Workbook add_chart() method where the chart type is specified:\n",
    "\n",
    "# chart = workbook.add_chart({'type': 'column'})"
   ]
  },
  {
   "cell_type": "code",
   "execution_count": 3,
   "metadata": {},
   "outputs": [
    {
     "data": {
      "text/plain": [
       "0"
      ]
     },
     "execution_count": 3,
     "metadata": {},
     "output_type": "execute_result"
    }
   ],
   "source": [
    "import xlsxwriter\n",
    "\n",
    "workbook = xlsxwriter.Workbook('chart.xlsx')\n",
    "worksheet = workbook.add_worksheet()\n",
    "\n",
    "# Create a new Chart object.\n",
    "chart = workbook.add_chart({'type': 'column'})\n",
    "\n",
    "# Write some data to add to plot on the chart.\n",
    "data = [\n",
    "    [1, 2, 3, 4, 5],\n",
    "    [2, 4, 6, 8, 10],\n",
    "    [3, 6, 9, 12, 15],\n",
    "]\n",
    "\n",
    "worksheet.write_column('A1', data[0])\n",
    "worksheet.write_column('B1', data[1])\n",
    "worksheet.write_column('C1', data[2])\n",
    "\n",
    "\n"
   ]
  },
  {
   "cell_type": "markdown",
   "metadata": {},
   "source": [
    "add_series(options)\n",
    "# Add a data series to a chart.\n",
    "\n",
    "Parameters:\toptions (dict) – A dictionary of chart series options.\n",
    "In Excel a chart series is a collection of information that defines which data is plotted such as values, axis labels and formatting.\n",
    "\n",
    "For an XlsxWriter chart object the add_series() method is used to set the properties for a series:"
   ]
  },
  {
   "cell_type": "code",
   "execution_count": 4,
   "metadata": {},
   "outputs": [],
   "source": [
    "\n",
    "# Configure the chart. In simplest case we add one or more data series.\n",
    "chart.add_series({'values': '=Sheet1!$A$1:$A$5'})\n",
    "chart.add_series({'values': '=Sheet1!$B$1:$B$5'})\n",
    "chart.add_series({'values': '=Sheet1!$C$1:$C$5'})\n",
    "\n",
    "# Insert the chart into the worksheet.\n",
    "worksheet.insert_chart('A7', chart)\n",
    "\n",
    "workbook.close()"
   ]
  },
  {
   "cell_type": "markdown",
   "metadata": {},
   "source": [
    "# cx_Oracle\n",
    "\n",
    "\n",
    "+ https://www.cs.utexas.edu/~scohen/cs327e_spr15/slides/cx_Oracle.pdf\n",
    "+ https://cx-oracle.readthedocs.io/en/latest/api_manual\n"
   ]
  },
  {
   "cell_type": "markdown",
   "metadata": {},
   "source": [
    "<b>cx_Oracle is a Python extension module that enables Python access to Oracle</b>"
   ]
  },
  {
   "cell_type": "markdown",
   "metadata": {},
   "source": [
    "# Features\n",
    "The cx_Oracle feature highlights are:\n",
    "• Easily installed from PyPI\n",
    "• Support for Python 2 and 3, and for multiple Oracle Database versions\n",
    "• Execution of SQL and PL/SQL statements\n",
    "• Extensive Oracle data type support, including large objects (CLOB and BLOB) and binding of SQL objects\n",
    "• Connection management, including connection pooling\n",
    "• Oracle Database High Availability features\n",
    "• Full use of Oracle Network Service infrastructure, including encrypted network traffic and security features"
   ]
  },
  {
   "cell_type": "code",
   "execution_count": null,
   "metadata": {},
   "outputs": [],
   "source": [
    "import cx_Oracle\n",
    "\n",
    "conn = cx_Oracle.connect('CNVAPPDB51/CNVAPPDB51@CNVABP51')\n",
    "cursor=conn.cursor()#create cursor class object by calling cursor method\n",
    "cursor.execute(query)#execute method to execute sql commands on DB\n",
    "# Resultant rows retrieved from the tables are stored in the cursor object \n",
    "\n",
    "# To retrive the rows from cursor object use fetchone and fetchall methods\n",
    "\n",
    "row=cursor.fetchone() # get 1 row\n",
    "rows=cursor.fetchall() # get all rows\n",
    "\n",
    "# Close the connection by closing the cursor and connection objects\n",
    "\n",
    "cursor.close()\n",
    "conn.close()\n",
    "# https://cx-oracle.readthedocs.io/en/latest/api_manual/cursor.html"
   ]
  },
  {
   "cell_type": "code",
   "execution_count": null,
   "metadata": {},
   "outputs": [],
   "source": [
    "#Examples"
   ]
  },
  {
   "cell_type": "code",
   "execution_count": null,
   "metadata": {},
   "outputs": [],
   "source": [
    "#Call stored procedure using callproc() method and pass in and out parameters\n",
    "\n",
    "result=cursor.callproc('myproc',args)"
   ]
  }
 ],
 "metadata": {
  "kernelspec": {
   "display_name": "Python 3",
   "language": "python",
   "name": "python3"
  },
  "language_info": {
   "codemirror_mode": {
    "name": "ipython",
    "version": 3
   },
   "file_extension": ".py",
   "mimetype": "text/x-python",
   "name": "python",
   "nbconvert_exporter": "python",
   "pygments_lexer": "ipython3",
   "version": "3.6.5"
  }
 },
 "nbformat": 4,
 "nbformat_minor": 2
}
