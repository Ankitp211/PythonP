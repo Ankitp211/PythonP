{
 "cells": [
  {
   "cell_type": "markdown",
   "metadata": {},
   "source": [
    "\n",
    "# <font color=\"blue\">Python Basics - Master Class</font>\n",
    "\n",
    "\n",
    "\n",
    "## <font color=\"blue\"><font size=\"3\"><b>Session #2</b></font></font>\n",
    "## <font color=\"blue\"><font size=\"3\"><b>Date: 30/09/2019</b></font></font>\n",
    "\n",
    "<font color=\"blue\"><b>Topics:</b></font>\n",
    "\n",
    "<font color=\"blue\">Input & Output Statements ,Memory Allocation ,\n",
    "        Strings</font>\n"
   ]
  },
  {
   "cell_type": "markdown",
   "metadata": {},
   "source": [
    "<b>Input and Output</b>\n"
   ]
  },
  {
   "cell_type": "code",
   "execution_count": null,
   "metadata": {},
   "outputs": [],
   "source": [
    "#Print function \n"
   ]
  },
  {
   "cell_type": "code",
   "execution_count": null,
   "metadata": {},
   "outputs": [],
   "source": [
    "\n",
    "#print('1This is the first Line')\n",
    "print('2This is the \\nSecond Line')"
   ]
  },
  {
   "cell_type": "code",
   "execution_count": null,
   "metadata": {},
   "outputs": [],
   "source": [
    "print('3This is the \\t third Line')"
   ]
  },
  {
   "cell_type": "markdown",
   "metadata": {},
   "source": [
    "#To escape the effect of escape sequence we should add one more '\\'(backslash) before the escape sequence"
   ]
  },
  {
   "cell_type": "code",
   "execution_count": null,
   "metadata": {},
   "outputs": [],
   "source": [
    "#print('2This is the \\\\nSecond Line')\n",
    "print(r'2This is the \\nSecond \\t Line')"
   ]
  },
  {
   "cell_type": "code",
   "execution_count": null,
   "metadata": {},
   "outputs": [],
   "source": [
    "# Repetition operator\n",
    "\n",
    "print (3 *'Python' )"
   ]
  },
  {
   "cell_type": "code",
   "execution_count": null,
   "metadata": {},
   "outputs": [],
   "source": [
    "\n",
    "print(\"City Name=\" , '2')"
   ]
  },
  {
   "cell_type": "code",
   "execution_count": null,
   "metadata": {},
   "outputs": [],
   "source": [
    "#The print(variable list) statement\n",
    "#output are sepeated by  a space by default\n",
    "#sep='characters' used to seperate the values in the output\n",
    "\n",
    "a,b=2,4\n",
    "print(a)\n",
    "print(b)\n",
    "print(a,b)\n",
    "print(a, b , sep=',')\n",
    "print(a ,b , sep=':')\n",
    "print(a ,b , sep='\\n')"
   ]
  },
  {
   "cell_type": "code",
   "execution_count": null,
   "metadata": {},
   "outputs": [],
   "source": [
    "print('Hello')\n",
    "print('Data')\n",
    "print('Migration')"
   ]
  },
  {
   "cell_type": "code",
   "execution_count": null,
   "metadata": {},
   "outputs": [],
   "source": [
    "#End attribute- it will display output in the same line\n",
    "#end='character' indicates the ending character for the line \n",
    "\n",
    "print('Hello', end=' ')\n",
    "print('Data', end='\\t')\n",
    "\n",
    "print('Migration', end='')\n"
   ]
  },
  {
   "cell_type": "code",
   "execution_count": null,
   "metadata": {},
   "outputs": [],
   "source": [
    "#Print(object) statement\n",
    "lst=[10,'Hello','Python']\n",
    "#print(lst)\n",
    "\n",
    "#print(\"String\",variable list) statement\n",
    "a=2\n",
    "b=2\n",
    "a=3\n",
    "print('You Typed',a,b,'is a even number')\n",
    "\n",
    "print(2 ,a,b,3)\n",
    "\n"
   ]
  },
  {
   "cell_type": "code",
   "execution_count": null,
   "metadata": {},
   "outputs": [],
   "source": [
    "#Output displayed by the print() can be formatted as we like\n",
    "#print(formatted String)\n",
    "#print('formatted String' % (variable list))\n",
    "#%i integer number\n",
    "#%f float values\n",
    "\n",
    "x=10\n",
    "print('value=%i' %x)\n",
    "value=10"
   ]
  },
  {
   "cell_type": "code",
   "execution_count": null,
   "metadata": {},
   "outputs": [],
   "source": [
    "#%s for the string\n",
    "name='Migration'\n",
    "print('Data %s' %name)"
   ]
  },
  {
   "cell_type": "code",
   "execution_count": null,
   "metadata": {},
   "outputs": [],
   "source": [
    "name='Migration'\n",
    "a=20\n",
    "b=40\n",
    "c='Data1'\n",
    "\n",
    "print('Data %s %i %s' %(a,c,a))\n",
    "\n",
    "\n"
   ]
  },
  {
   "cell_type": "code",
   "execution_count": null,
   "metadata": {},
   "outputs": [],
   "source": [
    "#Print('Format String with Replacemnt Fields'.format(values))\n",
    "\n",
    "\n",
    "CustomersType,Count='T',1200\n",
    "print('Customer type is {0} and count is {1}'.format(CustomersType,Count))"
   ]
  },
  {
   "cell_type": "code",
   "execution_count": null,
   "metadata": {},
   "outputs": [],
   "source": [
    "CustomersType,Count=['T','A','C'],[1200,30000,94000]\n",
    "print('total customer types are {0} and  counts {1}'.format(CustomersType,Count))"
   ]
  },
  {
   "cell_type": "markdown",
   "metadata": {},
   "source": [
    "Input Statement - To accept input from keyword"
   ]
  },
  {
   "cell_type": "code",
   "execution_count": null,
   "metadata": {},
   "outputs": [],
   "source": [
    "#return strings\n",
    "str1=input()\n",
    "type(str1)\n",
    "\n",
    "\n"
   ]
  },
  {
   "cell_type": "code",
   "execution_count": null,
   "metadata": {},
   "outputs": [],
   "source": [
    "str1=input('Enter a number: ')\n",
    "x=int(str1)\n",
    "type(x)\n",
    "#print(x)"
   ]
  },
  {
   "cell_type": "code",
   "execution_count": null,
   "metadata": {},
   "outputs": [],
   "source": [
    "#Accepting Integer from Keyboard\n",
    "x=int(input('Enter a number: '))\n",
    "print('U entered',x)"
   ]
  },
  {
   "cell_type": "code",
   "execution_count": null,
   "metadata": {},
   "outputs": [],
   "source": [
    "#Accpeting two numbers from keyboard\n",
    "x=int(input('Enter First number: '))\n",
    "y=int(input('Enter Second number: '))\n",
    "print('U entered',x,y)\n"
   ]
  },
  {
   "cell_type": "code",
   "execution_count": null,
   "metadata": {},
   "outputs": [],
   "source": [
    "#Seperating them using Commas\n",
    "\n",
    "print('U entered', x,y,sep=',')\n",
    "#print('U entered: %d %d'%(x,y))\n"
   ]
  },
  {
   "cell_type": "code",
   "execution_count": null,
   "metadata": {},
   "outputs": [],
   "source": [
    "#Find sum of two numbers\n",
    "x=int(input('Enter First number: '))\n",
    "y=int(input('Enter Second number: '))\n",
    "\n",
    "print('The sum of ',x,' and ' ,y , 'is', (x+y))\n"
   ]
  },
  {
   "cell_type": "code",
   "execution_count": null,
   "metadata": {},
   "outputs": [],
   "source": [
    "print('The sum of {} and {} is {}'.format(x,y,x+y))"
   ]
  },
  {
   "cell_type": "code",
   "execution_count": null,
   "metadata": {},
   "outputs": [],
   "source": [
    "#Program to find sum and multiplication  of two numbers\n",
    "\n",
    "x=int(input('Enter First number: '))\n",
    "y=int(input('Enter Second number: '))\n",
    "\n",
    "print('The sum of {3} and {2} is {1} and product of {0} and {1} is {3}'.format(x,y,x+y,x*y))"
   ]
  },
  {
   "cell_type": "code",
   "execution_count": null,
   "metadata": {},
   "outputs": [],
   "source": [
    "#The eval() method parses the expression passed to it and runs python expression(code) within the program\n",
    "#eval('5==5')\n",
    "#eval(\"4 < 10\")\n",
    "\n",
    "#eval(\"8 + 4 - 2 * 3\")\n",
    "#eval(\"10 ** 2\")\n",
    "#eval(\"'hello' +'py'\")\n"
   ]
  },
  {
   "cell_type": "code",
   "execution_count": null,
   "metadata": {},
   "outputs": [],
   "source": [
    "#Evaluating an expression entered from keyboard\n",
    "x=eval(input('Enter an expression: '))\n",
    "#print(\"result=%d\" %x)\n",
    "print(x)"
   ]
  },
  {
   "cell_type": "code",
   "execution_count": null,
   "metadata": {},
   "outputs": [],
   "source": [
    "lst=eval(input('Enter a list: '))\n",
    "type(lst)\n",
    "#print('List=',lst)"
   ]
  },
  {
   "cell_type": "markdown",
   "metadata": {},
   "source": [
    "<b>Command Line Argument</b>\n",
    "Command line arguments are the values passed to a program at command prompt(or  system Prompt)\n",
    "All the arguments should be entered from the keyboard seperating them by a space"
   ]
  },
  {
   "cell_type": "code",
   "execution_count": null,
   "metadata": {},
   "outputs": [],
   "source": [
    "\n",
    "%cd C:\\Users\\ankitp\\Documents\\PythonSessions"
   ]
  },
  {
   "cell_type": "code",
   "execution_count": null,
   "metadata": {},
   "outputs": [],
   "source": [
    "%run cmd.py 10 'Data' 123\n"
   ]
  },
  {
   "cell_type": "code",
   "execution_count": null,
   "metadata": {},
   "outputs": [],
   "source": [
    "%run add.py 10 22 \n"
   ]
  },
  {
   "cell_type": "markdown",
   "metadata": {},
   "source": [
    "<b>#Type Conversion</b> \n",
    "Python defines type conversion functions to directly convert one data type to another which is useful in day to day and competitive programming."
   ]
  },
  {
   "cell_type": "code",
   "execution_count": null,
   "metadata": {},
   "outputs": [],
   "source": [
    "# Python code to demonstrate Type conversion \n",
    "# using int(), float() \n",
    "  \n",
    "# initializing string \n",
    "s = \"10010\"\n",
    "c=int(s)\n",
    "#d=float(s)\n",
    "#print(d)\n",
    "type(c)"
   ]
  },
  {
   "cell_type": "code",
   "execution_count": null,
   "metadata": {},
   "outputs": [],
   "source": [
    "num_int = 123\n",
    "num_str = \"456\"\n",
    "\n",
    "print(\"Data type of num_int:\",type(num_int))\n",
    "print(\"Data type of num_str before Type Casting:\",type(num_str))\n",
    "\n",
    "num_str = int(num_str)\n",
    "print(\"Data type of num_str after Type Casting:\",type(num_str))\n",
    "\n",
    "num_sum = num_int + num_str\n",
    "\n",
    "print(\"Sum of num_int and num_str:\",num_sum)\n",
    "print(\"Data type of the sum:\",type(num_sum))"
   ]
  },
  {
   "cell_type": "code",
   "execution_count": null,
   "metadata": {},
   "outputs": [],
   "source": [
    "a=100\n",
    "b=float(a)\n",
    "type(b)\n"
   ]
  },
  {
   "cell_type": "code",
   "execution_count": null,
   "metadata": {},
   "outputs": [],
   "source": [
    "#tuple() list() \n",
    "s = 'geeks'\n",
    "\n",
    "b=tuple(s)\n",
    "c=list(s)\n",
    "type(c)\n",
    "#print(c)"
   ]
  },
  {
   "cell_type": "code",
   "execution_count": null,
   "metadata": {},
   "outputs": [],
   "source": [
    "x=2.5\n",
    "b=int(x)\n",
    "print(b)"
   ]
  },
  {
   "cell_type": "code",
   "execution_count": null,
   "metadata": {},
   "outputs": [],
   "source": [
    "#integer to String\n",
    "#%cd C:\\Users\\ankitp\\Documents\\PythonSessions\n",
    "#%run str1.py\n",
    "\n",
    "a=123\n",
    "b=str(a)"
   ]
  },
  {
   "cell_type": "markdown",
   "metadata": {},
   "source": [
    "**Strings**\n",
    "\n",
    "+ Built-in <b>string class</b> named <b>\"str\"</b> with many handy features\n",
    "+ In addition to numerical data processing, Python has very strong string processing capabilities. \n",
    "+ <b>Subsets</b> of strings can be taken using the <b>slice operator ( [ ] and [ : ] )</b> with indexes starting at 0 in the beginning of the string and working their way from -1 at the end.\n",
    "+ The plus ( + ) sign is the string concatenation operator and the asterisk ( * ) is the repetition operator. \n",
    "+ A string can be converted to a numerical type and vice versa (wherever applicable). Many a times, raw data, although numeric, is coded in string format. This feature provides a clean way to make sure all of the data is in numeric form.\n",
    "\n",
    "+ Strings and numbers can also be <b>formatted</b>."
   ]
  },
  {
   "cell_type": "code",
   "execution_count": null,
   "metadata": {},
   "outputs": [],
   "source": [
    "#strings occupies several lines than triple quotes\n",
    "str1='''Python master classes''' \n",
    "print(str1)"
   ]
  },
  {
   "cell_type": "code",
   "execution_count": null,
   "metadata": {},
   "outputs": [],
   "source": [
    "#length of string \n",
    "\n",
    "sr='core python'\n",
    "n=len(sr)\n",
    "print(n)"
   ]
  },
  {
   "cell_type": "markdown",
   "metadata": {},
   "source": [
    "<b>Indexing in Strings</b>\n",
    "#Index is writing using square braces[]\n"
   ]
  },
  {
   "cell_type": "code",
   "execution_count": null,
   "metadata": {},
   "outputs": [],
   "source": [
    "strr = 'Hello World'\n",
    "\n",
    "     #  H e l l o(Space)W o r l d\n",
    "     #  0 1 2 3 4   5   6 7 8 9 10 \n",
    " #(-ve)1110 9 8 7   6   5 4 3 2 1\n",
    "\n",
    "#Slicing of Strings\n",
    "\n",
    "        \n",
    "\n",
    "print (strr)            # prints complete string\n",
    "print (strr[0])         # prints first character of string\n",
    "print (strr[-1])         # prints Last character of string\n",
    "print (strr*2)          # prints string two times\n",
    "print (strr +\"TEST\")   # prints concatenated string\n"
   ]
  },
  {
   "cell_type": "code",
   "execution_count": null,
   "metadata": {},
   "outputs": [],
   "source": [
    "#Stringname[Start:Stop:Stepsize]\n",
    "\n",
    "strr = 'Hello World'\n",
    "\n",
    "     #  H e l l o(Space)W o r l d\n",
    "     #  0 1 2 3 4   5   6 7 8 9 10 \n",
    " #(-ve)1110 9 8 7   6   5 4 3 2 1\n",
    "\n",
    "\n",
    "#print (strr[2:7])       # prints characters starting from 3rd to 6th. Exclude last element. 'o' is excluded.\n",
    "print (strr[2:])        # prints string starting from 3rd character\n",
    "\n"
   ]
  },
  {
   "cell_type": "code",
   "execution_count": null,
   "metadata": {},
   "outputs": [],
   "source": [
    "#Stepsize=2\n",
    "print(strr[0:len(strr)])\n",
    "print(strr[1:9:2])\n",
    "print(strr[::])\n",
    "print(strr[::2])\n"
   ]
  },
  {
   "cell_type": "code",
   "execution_count": null,
   "metadata": {},
   "outputs": [],
   "source": [
    "strr = 'Hello World'\n",
    "\n",
    "     #  H e l l o\n",
    "     #  0 1 2 3 4\n",
    "#(-ve)  5 4 3 2 1\n",
    "        \n",
    "#Reverse Slicing\n",
    "strr =\"hello\"\n",
    "print(strr[-1])\n",
    "print(strr[-2])\n",
    "print(strr[-3])\n",
    "print(strr[-4])\n",
    "print(strr[-5])\n",
    "\n",
    "\n"
   ]
  },
  {
   "cell_type": "code",
   "execution_count": null,
   "metadata": {},
   "outputs": [],
   "source": [
    "        \n",
    "#Reverse Slicing\n",
    "strr = 'Hello World'\n",
    "     #  H e l l o(Space)W o r l d\n",
    "     #  0 1 2 3 4   5   6 7 8 9 10 \n",
    " #(-ve)1110 9 8 7   6   5 4 3 2 1\n",
    "    \n",
    "#Stepsize=1\n",
    "#len(strr)           \n",
    "print (strr[0:-7])    \n",
    "print (strr[0:-1])\n",
    "print(strr[-4:-1])"
   ]
  },
  {
   "cell_type": "code",
   "execution_count": null,
   "metadata": {},
   "outputs": [],
   "source": [
    "print(strr[-6::])"
   ]
  },
  {
   "cell_type": "code",
   "execution_count": null,
   "metadata": {},
   "outputs": [],
   "source": [
    "#Stepsize=-1\n",
    "#string in reverse order\n",
    "strr = 'Hello World'\n",
    "     #  H e l l o(Space)W o r l d\n",
    "     #  0 1 2 3 4   5   6 7 8 9 10 \n",
    " #(-ve)1110 9 8 7   6   5 4 3 2 1\n",
    "print(strr[-1:-12:-1])"
   ]
  },
  {
   "cell_type": "code",
   "execution_count": null,
   "metadata": {},
   "outputs": [],
   "source": [
    "#Reverse order\n",
    "print(strr[-1::-1])"
   ]
  },
  {
   "cell_type": "code",
   "execution_count": null,
   "metadata": {},
   "outputs": [],
   "source": [
    "a = \"hi\"\n",
    "print (a)\n",
    "print (len(a))\n"
   ]
  },
  {
   "cell_type": "code",
   "execution_count": null,
   "metadata": {},
   "outputs": [],
   "source": [
    "a + len(a) # Concatenating String & Integer - Error"
   ]
  },
  {
   "cell_type": "code",
   "execution_count": null,
   "metadata": {},
   "outputs": [],
   "source": [
    "help('str')"
   ]
  },
  {
   "cell_type": "markdown",
   "metadata": {},
   "source": [
    "The join() method returns a string concatenated with the elements of iterable."
   ]
  },
  {
   "cell_type": "code",
   "execution_count": null,
   "metadata": {},
   "outputs": [],
   "source": [
    "str1 = \"    This is a bright, sunny day      \"\n",
    "print (str1.rstrip())                   # Remove spaces to the right \n",
    "print (str1.lstrip())                   # Remove spaces to the left \n",
    "print (str1.strip())                    # Remove spaces on both side \n",
    "print (\":\".join(str1))                  # Sequence of elements to be joined\n",
    "\n",
    "print (\" \".join([\"banana\",\"grapes\"]))   # How to do string concatenation. Treat it as a list. One element is nothing but a word.\n",
    "print (len(str1.rstrip()))"
   ]
  },
  {
   "cell_type": "code",
   "execution_count": null,
   "metadata": {},
   "outputs": [],
   "source": [
    "#Split function\n",
    "#String method is used to breake a string into pieces.\n",
    "#These pieces are returned as a list\n",
    "\n",
    "a='one,two,three,four'\n",
    "b=a.split(',')\n",
    "\n",
    "print(b)"
   ]
  },
  {
   "cell_type": "code",
   "execution_count": null,
   "metadata": {},
   "outputs": [],
   "source": [
    "print(b)\n",
    "c=\",\".join(b)\n",
    "print(c)\n"
   ]
  },
  {
   "cell_type": "code",
   "execution_count": null,
   "metadata": {},
   "outputs": [],
   "source": [
    "\n",
    "a = 'this is a string'\n",
    "\n",
    "b = a.replace('string','longer string')\n",
    "print (a) \n",
    "print (b)\n"
   ]
  },
  {
   "cell_type": "code",
   "execution_count": null,
   "metadata": {},
   "outputs": [],
   "source": [
    "school = 'ISB'\n",
    "print('S' in school)\n",
    "print('L' in school)"
   ]
  },
  {
   "cell_type": "code",
   "execution_count": null,
   "metadata": {},
   "outputs": [],
   "source": [
    "#test\n",
    "#find(sustring,beginning,ending)\n",
    "#help(str.find)\n",
    "#Return position, n+1\n",
    "\n",
    "str1=\"Hey how are you doing\"\n",
    "sub=\"We are doing good\"\n",
    "sub1=\"Ankit\"\n",
    "\n",
    "n=str1.find(sub1)\n",
    "print(n)"
   ]
  },
  {
   "cell_type": "code",
   "execution_count": null,
   "metadata": {},
   "outputs": [],
   "source": [
    "# Let see how to get the type of the variables\n",
    "x='X-DSPAM-Confidence:   0.9032'\n",
    "pos = x.find(':')\n",
    "print(pos)\n"
   ]
  },
  {
   "cell_type": "code",
   "execution_count": null,
   "metadata": {},
   "outputs": [],
   "source": [
    "# Checking Membership\n",
    "#We can check if a string or character is a member of another string ot not using in and not in operator\n",
    "str1=\"Python is nice\"\n",
    "sub=';'\n",
    "if sub in str1 :\n",
    "    print(\"Match\")\n",
    "else:\n",
    "    print(\"not match\")\n",
    "\n",
    "if (sub==str1):\n",
    "    print(\"Match\")\n",
    "else:\n",
    "    print(\"not match\")"
   ]
  },
  {
   "cell_type": "code",
   "execution_count": null,
   "metadata": {},
   "outputs": [],
   "source": [
    "\n",
    "str1=\"Python is nice\"\n",
    "sub=';'\n",
    "n=str1.find(sub1)\n",
    "if n==-1:\n",
    "    print('Sub string not found')\n",
    "else:\n",
    "    print('Sub String found ')"
   ]
  },
  {
   "cell_type": "markdown",
   "metadata": {},
   "source": [
    "<b> How Python Sees Variables</b>"
   ]
  },
  {
   "cell_type": "markdown",
   "metadata": {},
   "source": [
    "#memory allocation\n",
    "Identifier :\n",
    "identify a variable, function, class, module or other object\n",
    "\n",
    "A variable, as the name indicates is something whose value is changeable over time. In fact a variable is a memory location where a value can be stored. Later we can retrieve the value to use. But for doing it we need to give a nickname to that memory location so that we can refer to it. That’s identifier, the nickname\n"
   ]
  },
  {
   "cell_type": "code",
   "execution_count": null,
   "metadata": {},
   "outputs": [],
   "source": [
    "a=1\n",
    "\n",
    "id(a)"
   ]
  },
  {
   "cell_type": "code",
   "execution_count": null,
   "metadata": {},
   "outputs": [],
   "source": [
    "id(1)"
   ]
  },
  {
   "cell_type": "code",
   "execution_count": null,
   "metadata": {},
   "outputs": [],
   "source": [
    "a=2"
   ]
  },
  {
   "cell_type": "code",
   "execution_count": null,
   "metadata": {},
   "outputs": [],
   "source": [
    "id(a)"
   ]
  },
  {
   "cell_type": "code",
   "execution_count": null,
   "metadata": {},
   "outputs": [],
   "source": [
    "id(1)"
   ]
  },
  {
   "cell_type": "code",
   "execution_count": null,
   "metadata": {},
   "outputs": [],
   "source": []
  },
  {
   "cell_type": "code",
   "execution_count": null,
   "metadata": {},
   "outputs": [],
   "source": [
    "id(2)"
   ]
  },
  {
   "cell_type": "code",
   "execution_count": null,
   "metadata": {},
   "outputs": [],
   "source": [
    "b=a"
   ]
  },
  {
   "cell_type": "code",
   "execution_count": null,
   "metadata": {},
   "outputs": [],
   "source": [
    "id(b)"
   ]
  },
  {
   "cell_type": "code",
   "execution_count": null,
   "metadata": {},
   "outputs": [],
   "source": [
    "id(2)"
   ]
  },
  {
   "cell_type": "code",
   "execution_count": null,
   "metadata": {},
   "outputs": [],
   "source": [
    "#Practise Exercise #1\n",
    "#Explore lsmagic\n",
    "#Explore Match Function \n",
    "#Explore str functions"
   ]
  }
 ],
 "metadata": {
  "kernelspec": {
   "display_name": "Python 3",
   "language": "python",
   "name": "python3"
  },
  "language_info": {
   "codemirror_mode": {
    "name": "ipython",
    "version": 3
   },
   "file_extension": ".py",
   "mimetype": "text/x-python",
   "name": "python",
   "nbconvert_exporter": "python",
   "pygments_lexer": "ipython3",
   "version": "3.6.5"
  }
 },
 "nbformat": 4,
 "nbformat_minor": 2
}
