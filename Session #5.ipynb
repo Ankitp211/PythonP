{
 "cells": [
  {
   "cell_type": "markdown",
   "metadata": {},
   "source": [
    "\n",
    "# <font color=\"blue\">Python Basics - Master Class</font>\n",
    "\n",
    "\n",
    "\n",
    "## <font color=\"blue\"><font size=\"3\"><b>Session #5</b></font></font>\n",
    "## <font color=\"blue\"><font size=\"3\"><b>Date: 11/10/2019</b></font></font>\n",
    "\n",
    "<font color=\"blue\"><b>Topics:</b></font>\n",
    "\n",
    "<font color=\"blue\">Files Handling , Exception Handling</font>\n",
    "\n",
    "\n",
    "\n"
   ]
  },
  {
   "cell_type": "markdown",
   "metadata": {},
   "source": [
    "**Closing and Opening Files**\n",
    "\n",
    "+ Python, along with associated packages, supports a number of formats for file reading and writing. \n",
    "+ The file types supported are txt, csv, xls, xlsx, doc, docx, dat, output, sql (and some specialized formats such as R, .dta, sas7bdat)\n",
    "+ In order to open a file, use open() method specifying file name and mode of opening (read, write, append, etc)\n",
    "+ Open returns a file handle \n",
    "+ handle = open(filename, mode)\n",
    "+ Once work is done, it is always better to close the file otherwise other programs might not be able to access the file.\n",
    "+ File closing is done using close() method\n"
   ]
  },
  {
   "cell_type": "markdown",
   "metadata": {},
   "source": [
    "There are built-in libraries :\n",
    "+ wave: read and write WAV files (audio)\n",
    "+ CSV library for CSV reading\n",
    "+ aifc: read and write AIFF and AIFC files (audio)\n",
    "+ sunau: read and write Sun AU files\n",
    "+ tarfile: read and write tar archive files\n",
    "+ zipfile: work with ZIP archives\n",
    "+ configparser: easily create and parse configuration files\n",
    "+ xml.etree.ElementTree: create or read XML based files\n",
    "+ msilib: read and write Microsoft Installer files\n",
    "+ plistlib: generate and parse Mac OS X .plist files\n",
    "    \n",
    "    +  Additionally there are even more third party tools available on PyPI. Some popular ones are the following:\n",
    "\n",
    "+ PyPDF2: PDF toolkit\n",
    "+ xlwings: read and write Excel files\n",
    "+ xlswriter : write excel files\n",
    "+ Pillow: image reading and manipulation\n",
    "+ Documents : for Docx file"
   ]
  },
  {
   "cell_type": "markdown",
   "metadata": {},
   "source": [
    "# Creating a file to store characters"
   ]
  },
  {
   "cell_type": "code",
   "execution_count": 81,
   "metadata": {},
   "outputs": [],
   "source": [
    "#File Handler=open('filename','open mode')\n",
    "\n",
    "#Open()-> to open the file, \n",
    "#It returns a pointer to the begining of the file\n",
    "\n",
    "#close() -> A file which is opened should be closed using close()"
   ]
  },
  {
   "cell_type": "code",
   "execution_count": 58,
   "metadata": {},
   "outputs": [],
   "source": [
    "#Example - creating a file where we want to store some characters \n",
    "f=open('myfile.txt','w') # f represents the file handler or file object"
   ]
  },
  {
   "cell_type": "code",
   "execution_count": 59,
   "metadata": {},
   "outputs": [
    {
     "name": "stdout",
     "output_type": "stream",
     "text": [
      "Enter Text: Data Migration Session\n"
     ]
    }
   ],
   "source": [
    "#enter characters from Keyboard\n",
    "\n",
    "str1=input('Enter Text: ')"
   ]
  },
  {
   "cell_type": "code",
   "execution_count": 60,
   "metadata": {},
   "outputs": [
    {
     "data": {
      "text/plain": [
       "22"
      ]
     },
     "execution_count": 60,
     "metadata": {},
     "output_type": "execute_result"
    }
   ],
   "source": [
    "#Write the String into file\n",
    "\n",
    "f.write(str1)"
   ]
  },
  {
   "cell_type": "code",
   "execution_count": 61,
   "metadata": {},
   "outputs": [],
   "source": [
    "#Closing the file\n",
    "f.close()"
   ]
  },
  {
   "cell_type": "code",
   "execution_count": 62,
   "metadata": {},
   "outputs": [
    {
     "data": {
      "text/plain": [
       "'C:\\\\Users\\\\ankitp\\\\Documents\\\\PythonSessions'"
      ]
     },
     "execution_count": 62,
     "metadata": {},
     "output_type": "execute_result"
    }
   ],
   "source": [
    "%pwd"
   ]
  },
  {
   "cell_type": "markdown",
   "metadata": {},
   "source": [
    "# Read characters from text file"
   ]
  },
  {
   "cell_type": "code",
   "execution_count": 63,
   "metadata": {},
   "outputs": [],
   "source": [
    "#open the file for reading data\n",
    "\n",
    "f=open('myfile.txt','r')"
   ]
  },
  {
   "cell_type": "code",
   "execution_count": 64,
   "metadata": {},
   "outputs": [],
   "source": [
    "str2=f.read()"
   ]
  },
  {
   "cell_type": "code",
   "execution_count": 65,
   "metadata": {},
   "outputs": [
    {
     "name": "stdout",
     "output_type": "stream",
     "text": [
      "Data Migration Session\n"
     ]
    }
   ],
   "source": [
    "#Display them on screen\n",
    "print(str2)"
   ]
  },
  {
   "cell_type": "code",
   "execution_count": 66,
   "metadata": {},
   "outputs": [],
   "source": [
    "#Closing the file\n",
    "f.close()\n"
   ]
  },
  {
   "cell_type": "code",
   "execution_count": 68,
   "metadata": {},
   "outputs": [
    {
     "name": "stdout",
     "output_type": "stream",
     "text": [
      "Data Migra\n"
     ]
    }
   ],
   "source": [
    "\n",
    "\n",
    "f=open('myfile.txt','r')\n",
    "str3=f.read(10)\n",
    "print(str3)\n",
    "f.close()"
   ]
  },
  {
   "cell_type": "code",
   "execution_count": 69,
   "metadata": {},
   "outputs": [],
   "source": [
    "#enter characters from Keyboard\n",
    "\n",
    "\n",
    "f=open('sample.txt','w')"
   ]
  },
  {
   "cell_type": "code",
   "execution_count": 70,
   "metadata": {},
   "outputs": [
    {
     "name": "stdout",
     "output_type": "stream",
     "text": [
      "This is my file line one.\n",
      "This is line two\n"
     ]
    }
   ],
   "source": [
    "p1='This is my file line one.\\nThis is line two'\n",
    "print(p1)\n",
    "     \n"
   ]
  },
  {
   "cell_type": "code",
   "execution_count": 71,
   "metadata": {},
   "outputs": [
    {
     "data": {
      "text/plain": [
       "42"
      ]
     },
     "execution_count": 71,
     "metadata": {},
     "output_type": "execute_result"
    }
   ],
   "source": [
    "f.write(p1)\n"
   ]
  },
  {
   "cell_type": "code",
   "execution_count": 72,
   "metadata": {},
   "outputs": [],
   "source": [
    "f.close()\n"
   ]
  },
  {
   "cell_type": "code",
   "execution_count": 75,
   "metadata": {},
   "outputs": [],
   "source": [
    "\n",
    "f=open('sample.txt','r')"
   ]
  },
  {
   "cell_type": "code",
   "execution_count": 76,
   "metadata": {},
   "outputs": [],
   "source": [
    "#splitlines() Display all the strings as elements in a list\n",
    "str2=f.read().splitlines()"
   ]
  },
  {
   "cell_type": "code",
   "execution_count": 74,
   "metadata": {},
   "outputs": [
    {
     "data": {
      "text/plain": [
       "str"
      ]
     },
     "execution_count": 74,
     "metadata": {},
     "output_type": "execute_result"
    }
   ],
   "source": [
    "type(str2)"
   ]
  },
  {
   "cell_type": "code",
   "execution_count": 77,
   "metadata": {},
   "outputs": [
    {
     "name": "stdout",
     "output_type": "stream",
     "text": [
      "['This is my file line one.', 'This is line two']\n"
     ]
    }
   ],
   "source": [
    "print(str2)"
   ]
  },
  {
   "cell_type": "code",
   "execution_count": 150,
   "metadata": {},
   "outputs": [],
   "source": [
    "f=open('sample.txt','r')"
   ]
  },
  {
   "cell_type": "code",
   "execution_count": 78,
   "metadata": {},
   "outputs": [
    {
     "data": {
      "text/plain": [
       "3"
      ]
     },
     "execution_count": 78,
     "metadata": {},
     "output_type": "execute_result"
    }
   ],
   "source": [
    "#Seek()-> seek() sets the file handler  current position at the offset. \n",
    "\n",
    "\n",
    "f.seek(3)\n",
    "\n"
   ]
  },
  {
   "cell_type": "code",
   "execution_count": 79,
   "metadata": {},
   "outputs": [],
   "source": [
    "p2=f.read()\n"
   ]
  },
  {
   "cell_type": "code",
   "execution_count": 80,
   "metadata": {},
   "outputs": [
    {
     "name": "stdout",
     "output_type": "stream",
     "text": [
      "s is my file line one.\n",
      "This is line two\n"
     ]
    }
   ],
   "source": [
    "print(p2)"
   ]
  },
  {
   "cell_type": "code",
   "execution_count": 82,
   "metadata": {},
   "outputs": [
    {
     "name": "stdout",
     "output_type": "stream",
     "text": [
      "Enter the file name:sample.txt\n",
      "No of Lines:  2\n",
      "No of Words:  10\n",
      "No of Character:  42\n"
     ]
    }
   ],
   "source": [
    "#Pyhton program to count number of lines,words and characters in a text file\n",
    "\n",
    "import os,sys\n",
    "\n",
    "#open the file for reading data\n",
    "\n",
    "fname=input('Enter the file name:')\n",
    "if os.path.isfile(fname):\n",
    "    f=open(fname,'r')\n",
    "else:\n",
    "    print(fname+' does not exist')\n",
    "    sys.exit()\n",
    "    \n",
    "#initialize the counters to 0\n",
    "\n",
    "cl=cw=cc=0\n",
    "#read line by line from the file\n",
    "for line in f:\n",
    "   # print(line)\n",
    "    words=line.split()\n",
    "    cl+=1\n",
    "    cw+= len(words)\n",
    "    cc+=len(line)\n",
    "print('No of Lines: ',cl)\n",
    "print('No of Words: ',cw)\n",
    "print('No of Character: ',cc)"
   ]
  },
  {
   "cell_type": "code",
   "execution_count": 83,
   "metadata": {},
   "outputs": [],
   "source": [
    "#with open ('filename','openmode') as fileobject\n",
    "\n",
    "with open ('with1.txt','w') as f:\n",
    "    f.write('I am a Python learner\\n')\n",
    "    f.write('Python is awsone')"
   ]
  },
  {
   "cell_type": "code",
   "execution_count": 84,
   "metadata": {},
   "outputs": [
    {
     "name": "stdout",
     "output_type": "stream",
     "text": [
      "I am a Python learner\n",
      "\n",
      "Python is awsone\n"
     ]
    }
   ],
   "source": [
    "with open ('with1.txt','r') as f:\n",
    "    for line in f:\n",
    "        print(line)"
   ]
  },
  {
   "cell_type": "markdown",
   "metadata": {},
   "source": [
    "# ZIPFile"
   ]
  },
  {
   "cell_type": "code",
   "execution_count": 85,
   "metadata": {},
   "outputs": [
    {
     "name": "stdout",
     "output_type": "stream",
     "text": [
      "test.zip file created\n"
     ]
    }
   ],
   "source": [
    "#Module name zipfile\n",
    "\n",
    "import zipfile\n",
    "z=ZipFile('test1.zip','w')#test.zip created internally\n",
    "\n",
    "#add some files, that are to be zipped\n",
    "z.write('file1.txt')\n",
    "z.write('file2.txt')\n",
    "z.write('file3.txt')\n",
    "\n",
    "#close the zip file\n",
    "\n",
    "print('test.zip file created')\n",
    "z.close()"
   ]
  },
  {
   "cell_type": "code",
   "execution_count": 39,
   "metadata": {},
   "outputs": [],
   "source": [
    "#unzip \n",
    "\n",
    "\n",
    "import zipfile\n",
    "Z=ZipFile('test1.zip','r')\n",
    "\n",
    "Z.extractall()"
   ]
  },
  {
   "cell_type": "code",
   "execution_count": 40,
   "metadata": {},
   "outputs": [],
   "source": [
    "Z.close()"
   ]
  },
  {
   "cell_type": "markdown",
   "metadata": {},
   "source": [
    "# Python Pickle"
   ]
  },
  {
   "cell_type": "markdown",
   "metadata": {},
   "source": [
    "Python Pickle is used to serialize and deserialize a python object structure. Any object on python can be pickled so that it can be saved on disk.\n",
    "\n",
    "Serialization refers to the process of converting an object in memory to a byte stream that can be stored on disk or sent over a network. Later on, this character stream can then be retrieved and de-serialized back to a Python object.\n",
    "\n",
    "Tutorial :https://docs.python.org/3/library/pickle.html"
   ]
  },
  {
   "cell_type": "code",
   "execution_count": null,
   "metadata": {},
   "outputs": [],
   "source": [
    "#Import Pickle \n",
    "\n",
    "#pickle.dump()->Dump object into the file \n",
    "#which takes two arguments: the object you want to pickle and the file to which the object has to be saved\n",
    "\n",
    "#pickle.load()-> To retrieve pickled data\n",
    "#to load it to a var.\n",
    "\n"
   ]
  },
  {
   "cell_type": "code",
   "execution_count": 13,
   "metadata": {},
   "outputs": [
    {
     "name": "stdout",
     "output_type": "stream",
     "text": [
      "C:\\Users\\ankitp\\Documents\\PythonSessions\n"
     ]
    }
   ],
   "source": [
    "%cd C:\\Users\\ankitp\\Documents\\PythonSessions"
   ]
  },
  {
   "cell_type": "code",
   "execution_count": 86,
   "metadata": {},
   "outputs": [],
   "source": [
    "import pickle\n",
    "mylist = ['1', '2', '3', '4']\n",
    "with open('datafile_Pickle.txt', 'wb') as fh:\n",
    "    pickle.dump(mylist, fh)"
   ]
  },
  {
   "cell_type": "code",
   "execution_count": null,
   "metadata": {},
   "outputs": [],
   "source": [
    "%pwd"
   ]
  },
  {
   "cell_type": "code",
   "execution_count": 88,
   "metadata": {},
   "outputs": [
    {
     "name": "stdout",
     "output_type": "stream",
     "text": [
      "['1', '2', '3', '4']\n"
     ]
    },
    {
     "data": {
      "text/plain": [
       "list"
      ]
     },
     "execution_count": 88,
     "metadata": {},
     "output_type": "execute_result"
    }
   ],
   "source": [
    "import pickle\n",
    "pickle_off = open (\"datafile1.txt\", \"rb\")\n",
    "emp = pickle.load(pickle_off)\n",
    "print(emp)\n",
    "\n",
    "type(emp)\n",
    "\n"
   ]
  },
  {
   "cell_type": "markdown",
   "metadata": {},
   "source": [
    "# JSON - JavaScript Object Notation"
   ]
  },
  {
   "cell_type": "markdown",
   "metadata": {},
   "source": [
    "The binary data format pickle uses is specific to Python. To improve the interoperability between different programs the JavaScript Object Notation (JSON) provides an easy-to-use and human-readable schema, and thus became very popular.\n",
    "\n",
    "Tutorial :https://docs.python.org/2/library/json.html"
   ]
  },
  {
   "cell_type": "code",
   "execution_count": 89,
   "metadata": {},
   "outputs": [],
   "source": [
    "import json\n",
    "mylist = ['1', '2', '3', '4']\n",
    "with open('datafile_JSON.txt', 'w') as fh:\n",
    "    json.dump(mylist, fh)\n",
    "    "
   ]
  },
  {
   "cell_type": "code",
   "execution_count": 90,
   "metadata": {},
   "outputs": [
    {
     "name": "stdout",
     "output_type": "stream",
     "text": [
      "['1', '2', '3', '4']\n"
     ]
    }
   ],
   "source": [
    "import json\n",
    "json_off = open (\"datafile_JSON.txt\", \"r\")\n",
    "emp = json.load(json_off)\n",
    "print(emp)\n"
   ]
  },
  {
   "cell_type": "markdown",
   "metadata": {},
   "source": [
    "+ Python\t        JSON Equivalent\n",
    "+ dict\t            object\n",
    "+ list, tuple\t    array\n",
    "+ str\t            string\n",
    "+ int, float         Number\n",
    "\t\n",
    "+ True\t             true\n",
    "+ False\t             false\n",
    "+ None\t             null"
   ]
  },
  {
   "cell_type": "markdown",
   "metadata": {},
   "source": [
    "# Exception Handling\n",
    "\n",
    "**Exceptions**\n",
    "\n",
    "\n",
    "+ An exception is an <b>event that interrupts the ordinary sequential processing</b> of a program.\n",
    "+ For example, what if you are going to read a file and the file does not exist? Or what if you accidentally deleted it when the program was running? Similarly, what if your program had some invalid statements? Such situations are handled using exceptions.\n",
    "\n",
    "**Handling Exceptions**\n",
    "\n",
    "+ We can handle exceptions using the <b>try..except</b> statement. \n",
    "+ We basically put our <b>usual statements within the try-block</b> and put all our <b>error handlers in the except-block</b>.\n",
    "\n",
    "+ Finally -> The finally clause is always executed (optional)"
   ]
  },
  {
   "cell_type": "code",
   "execution_count": null,
   "metadata": {},
   "outputs": [],
   "source": [
    "#try:\n",
    "#    statements\n",
    "#except exceptionname:\n",
    "#    statements  # statements written inside an except block are called 'Handlers'\n",
    "#finally :       #The finally clause is always executed (optional)\n",
    " #   statements\n",
    "    "
   ]
  },
  {
   "cell_type": "code",
   "execution_count": 33,
   "metadata": {},
   "outputs": [
    {
     "ename": "FileNotFoundError",
     "evalue": "[Errno 2] No such file or directory: 'testfile'",
     "output_type": "error",
     "traceback": [
      "\u001b[1;31m---------------------------------------------------------------------------\u001b[0m",
      "\u001b[1;31mFileNotFoundError\u001b[0m                         Traceback (most recent call last)",
      "\u001b[1;32m<ipython-input-33-3da8938fb805>\u001b[0m in \u001b[0;36m<module>\u001b[1;34m()\u001b[0m\n\u001b[1;32m----> 1\u001b[1;33m \u001b[0mfh\u001b[0m \u001b[1;33m=\u001b[0m \u001b[0mopen\u001b[0m\u001b[1;33m(\u001b[0m\u001b[1;34m\"testfile\"\u001b[0m\u001b[1;33m,\u001b[0m \u001b[1;34m\"r\"\u001b[0m\u001b[1;33m)\u001b[0m\u001b[1;33m\u001b[0m\u001b[0m\n\u001b[0m\u001b[0;32m      2\u001b[0m \u001b[0mfh\u001b[0m\u001b[1;33m.\u001b[0m\u001b[0mwrite\u001b[0m\u001b[1;33m(\u001b[0m\u001b[1;34m\"This is my test file for exception handling!!\"\u001b[0m\u001b[1;33m)\u001b[0m\u001b[1;33m\u001b[0m\u001b[0m\n",
      "\u001b[1;31mFileNotFoundError\u001b[0m: [Errno 2] No such file or directory: 'testfile'"
     ]
    }
   ],
   "source": [
    " fh = open(\"testfile\", \"r\")\n",
    " fh.write(\"This is my test file for exception handling!!\")\n",
    "\n"
   ]
  },
  {
   "cell_type": "code",
   "execution_count": 91,
   "metadata": {},
   "outputs": [
    {
     "name": "stdout",
     "output_type": "stream",
     "text": [
      "Error: can't find file or read data\n"
     ]
    }
   ],
   "source": [
    "try:\n",
    "   fh = open(\"testfile\", \"r\")\n",
    "   fh.write(\"This is my test file for exception handling!!\")\n",
    "except IOError:\n",
    "   print (\"Error: can\\'t find file or read data\")\n"
   ]
  },
  {
   "cell_type": "code",
   "execution_count": 94,
   "metadata": {},
   "outputs": [
    {
     "name": "stdout",
     "output_type": "stream",
     "text": [
      "Average =  25.0\n",
      "None\n",
      "ZeroDivisionError: float division by zero\n",
      "None\n",
      "TypeError: unsupported operand type(s) for +: 'int' and 'str'\n",
      "None\n"
     ]
    }
   ],
   "source": [
    "def avg( numList ):\n",
    "    \"\"\"Raises TypeError or ZeroDivisionError exceptions.\"\"\"\n",
    "    sum = 0\n",
    "    for v in numList:\n",
    "        sum = sum + v\n",
    "    return float(sum)/len(numList)\n",
    "\n",
    "def avgReport(numList):\n",
    "     try:\n",
    "            \n",
    "         m= avg(numList)\n",
    "         print (\"Average = \", m)\n",
    "     except TypeError as ex:\n",
    "        print (\"TypeError:\", ex)\n",
    "     except ZeroDivisionError as ex:\n",
    "        print (\"ZeroDivisionError:\", ex)\n",
    "                    \n",
    "list1 = [10,20,30,40]                      \n",
    "list2 = []                                \n",
    "list3 = [10,20,30,'abc']                   \n",
    "\n",
    "print(avgReport(list1))\n",
    "print (avgReport(list2))\n",
    "print (avgReport(list3))"
   ]
  },
  {
   "cell_type": "markdown",
   "metadata": {},
   "source": [
    "**Try..Finally**\n",
    "\n",
    "+ Suppose you are reading a file in your program. How do you ensure that the file object is closed properly whether or not an exception was raised? This can be done using the finally block.\n",
    "+ This final step will be performed before the try block is finished, either normally or by any exception.\n",
    "+ <b>The finally clause is always executed</b>. \n",
    "+ This includes all three possible cases: <b>if the try block finishes with no exceptions; if an exception is raised and handled; and if an exception is raised but not handled</b>. \n",
    "+ This last case means that every nested try statement with a finally clause will have that finally clause executed.\n",
    "+ Use a finally clause to close files, release locks, close database connections, write final log messages, and other kinds of final operations. \n",
    "+ In the following example, we use the finally clause to write a final log message."
   ]
  },
  {
   "cell_type": "code",
   "execution_count": 95,
   "metadata": {},
   "outputs": [
    {
     "ename": "NameError",
     "evalue": "name 'x' is not defined",
     "output_type": "error",
     "traceback": [
      "\u001b[1;31m---------------------------------------------------------------------------\u001b[0m",
      "\u001b[1;31mNameError\u001b[0m                                 Traceback (most recent call last)",
      "\u001b[1;32m<ipython-input-95-fc17d851ef81>\u001b[0m in \u001b[0;36m<module>\u001b[1;34m()\u001b[0m\n\u001b[1;32m----> 1\u001b[1;33m \u001b[0mprint\u001b[0m\u001b[1;33m(\u001b[0m\u001b[0mx\u001b[0m\u001b[1;33m)\u001b[0m\u001b[1;33m\u001b[0m\u001b[0m\n\u001b[0m",
      "\u001b[1;31mNameError\u001b[0m: name 'x' is not defined"
     ]
    }
   ],
   "source": [
    "print(x)"
   ]
  },
  {
   "cell_type": "code",
   "execution_count": 96,
   "metadata": {},
   "outputs": [
    {
     "name": "stdout",
     "output_type": "stream",
     "text": [
      "Something went wrong\n",
      "The 'try except' is finished\n"
     ]
    }
   ],
   "source": [
    "try:\n",
    "  print(x)\n",
    "except:\n",
    "  print(\"Something went wrong\")\n",
    "finally:\n",
    "  print(\"The 'try except' is finished\")"
   ]
  },
  {
   "cell_type": "code",
   "execution_count": 97,
   "metadata": {},
   "outputs": [
    {
     "name": "stdout",
     "output_type": "stream",
     "text": [
      "Start avgReport\n",
      "Average = 25.0\n",
      "Finished avgReport\n",
      "None\n",
      "Start avgReport\n",
      "ZeroDivisionError: float division by zero\n",
      "Finished avgReport\n",
      "None\n",
      "Start avgReport\n",
      "TypeError: unsupported operand type(s) for +: 'int' and 'str'\n",
      "Finished avgReport\n",
      "None\n"
     ]
    }
   ],
   "source": [
    "def avgReport( numList ):\n",
    "    try:\n",
    "        print(\"Start avgReport\")\n",
    "        m= avg(numList)\n",
    "        print(\"Average = \" + str(m))\n",
    "    except TypeError as ex:\n",
    "        print(\"TypeError: \"+ str(ex))\n",
    "    except ZeroDivisionError as ex:\n",
    "        print(\"ZeroDivisionError: \" + str(ex))\n",
    "    finally:\n",
    "         print(\"Finished avgReport\")\n",
    "\n",
    "list1 = [10,20,30,40]\n",
    "list2 = []\n",
    "list3 = [10,20,30,'abc']\n",
    "\n",
    "print(avgReport(list1))\n",
    "print (avgReport(list2))\n",
    "print (avgReport(list3))"
   ]
  },
  {
   "cell_type": "markdown",
   "metadata": {},
   "source": [
    "# Logging the Exception"
   ]
  },
  {
   "cell_type": "code",
   "execution_count": 100,
   "metadata": {},
   "outputs": [
    {
     "name": "stdout",
     "output_type": "stream",
     "text": [
      "Enter a number : 10\n",
      "Enter another number : 0\n"
     ]
    }
   ],
   "source": [
    "#Logging the Exception \n",
    "\n",
    "import logging\n",
    "\n",
    "logging.basicConfig(filename='log4.txt',level=logging.ERROR)\n",
    "try :\n",
    "    a=int(input('Enter a number : '))\n",
    "    b=int(input('Enter another number : '))\n",
    "    c=a/b\n",
    "    \n",
    "except Exception as f: #exception message will be in the object 'e'\n",
    "        logging.exception(f)# store that message into log file\n",
    "else:\n",
    "        print('The result of divisions:',c)\n",
    "        \n",
    "#test.py"
   ]
  },
  {
   "cell_type": "code",
   "execution_count": 101,
   "metadata": {},
   "outputs": [
    {
     "name": "stdout",
     "output_type": "stream",
     "text": [
      "C:\\Users\\ankitp\\Documents\\PythonSessions\n"
     ]
    }
   ],
   "source": [
    "%cd C:\\Users\\ankitp\\Documents\\PythonSessions"
   ]
  },
  {
   "cell_type": "markdown",
   "metadata": {},
   "source": [
    "**Some common built-in exceptions**\n",
    "\n",
    "exception KeyboardInterrupt\n",
    " This is raised when a user hits ctrl-C to send an interrupt signal to the Python interpreter. \n",
    "\n",
    "exception AttributeError\n",
    " Attribute not found in an object.\n",
    "\n",
    "exception EOFError\n",
    " Read beyond end of file.\n",
    "\n",
    "exception FloatingPointError\n",
    " Floating point operation failed.\n",
    "\n",
    "exception IOError\n",
    " I/O operation failed.\n",
    "\n",
    "exception IndexError\n",
    " Sequence index out of range.\n",
    "\n",
    "exception KeyError\n",
    " Mapping key not found.\n",
    "\n",
    "exception TypeError\n",
    " Inappropriate argument type.\n",
    "\n",
    "exception ValueError\n",
    " Inappropriate argument value (of correct type).\n",
    "\n",
    "exception ZeroDivisionError\n",
    " Second argument to a division or modulo operation was zero.\n",
    "\n",
    "exception MemoryError\n",
    " Out of memory.\n",
    "\n",
    "exception RuntimeError\n",
    " Unspecified run-time error.\n",
    "\n",
    "exception SystemError\n",
    " Internal error in the Python interpreter\n",
    "\n",
    "exception ImportError\n",
    " Import can’t find module, or can’t find name in module.\n",
    "\n",
    "exception IndentationError\n",
    " Improper indentation.\n",
    "\n",
    "exception NameError\n",
    " Name not found globally.\n",
    "\n",
    "exception SyntaxError\n",
    " Invalid syntax.\n",
    "\n",
    "exception UnboundLocalError\n",
    " Local name referenced but not bound to a value.\n"
   ]
  }
 ],
 "metadata": {
  "kernelspec": {
   "display_name": "Python 3",
   "language": "python",
   "name": "python3"
  }
 },
 "nbformat": 4,
 "nbformat_minor": 2
}
